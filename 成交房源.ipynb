{
 "cells": [
  {
   "cell_type": "code",
   "execution_count": 1,
   "id": "ecce7dbc",
   "metadata": {},
   "outputs": [],
   "source": [
    "import requests\n",
    "import lxml\n",
    "import csv\n",
    "import re\n",
    "import pandas as pd\n",
    "from bs4 import BeautifulSoup\n",
    "import pyarrow\n",
    "import time\n",
    "import random\n",
    "import pyarrow.feather as feather\n",
    "from tqdm import *\n",
    "from lxml import etree"
   ]
  },
  {
   "cell_type": "code",
   "execution_count": 2,
   "id": "665d3170",
   "metadata": {},
   "outputs": [],
   "source": [
    "#cookies是分城市的\n",
    "def get_xiaoqu_chengjiao(xiaoqulinks,cookies):\n",
    "    user_agenrs = [\n",
    "            \"Mozilla/4.0 (compatible; MSIE 6.0; Windows NT 5.1; SV1; AcooBrowser; .NET CLR 1.1.4322; .NET CLR 2.0.50727)\",\n",
    "            \"Mozilla/4.0 (compatible; MSIE 7.0; Windows NT 6.0; Acoo Browser; SLCC1; .NET CLR 2.0.50727; Media Center PC 5.0; .NET CLR 3.0.04506)\",\n",
    "            \"Mozilla/4.0 (compatible; MSIE 7.0; AOL 9.5; AOLBuild 4337.35; Windows NT 5.1; .NET CLR 1.1.4322; .NET CLR 2.0.50727)\",\n",
    "            \"Mozilla/5.0 (Windows; U; MSIE 9.0; Windows NT 9.0; en-US)\",\n",
    "            \"Mozilla/5.0 (compatible; MSIE 9.0; Windows NT 6.1; Win64; x64; Trident/5.0; .NET CLR 3.5.30729; .NET CLR 3.0.30729; .NET CLR 2.0.50727; Media Center PC 6.0)\",\n",
    "            \"Mozilla/5.0 (compatible; MSIE 8.0; Windows NT 6.0; Trident/4.0; WOW64; Trident/4.0; SLCC2; .NET CLR 2.0.50727; .NET CLR 3.5.30729; .NET CLR 3.0.30729; .NET CLR 1.0.3705; .NET CLR 1.1.4322)\",\n",
    "            \"Mozilla/4.0 (compatible; MSIE 7.0b; Windows NT 5.2; .NET CLR 1.1.4322; .NET CLR 2.0.50727; InfoPath.2; .NET CLR 3.0.04506.30)\",\n",
    "            \"Mozilla/5.0 (Windows; U; Windows NT 5.1; zh-CN) AppleWebKit/523.15 (KHTML, like Gecko, Safari/419.3) Arora/0.3 (Change: 287 c9dfb30)\",\n",
    "            \"Mozilla/5.0 (X11; U; Linux; en-US) AppleWebKit/527+ (KHTML, like Gecko, Safari/419.3) Arora/0.6\",\n",
    "            \"Mozilla/5.0 (Windows; U; Windows NT 5.1; en-US; rv:1.8.1.2pre) Gecko/20070215 K-Ninja/2.1.1\",\n",
    "            \"Mozilla/5.0 (Windows; U; Windows NT 5.1; zh-CN; rv:1.9) Gecko/20080705 Firefox/3.0 Kapiko/3.0\",\n",
    "            \"Mozilla/5.0 (X11; Linux i686; U;) Gecko/20070322 Kazehakase/0.4.5\",\n",
    "            \"Mozilla/5.0 (X11; U; Linux i686; en-US; rv:1.9.0.8) Gecko Fedora/1.9.0.8-1.fc10 Kazehakase/0.5.6\",\n",
    "            \"Mozilla/5.0 (Windows NT 6.1; WOW64) AppleWebKit/535.11 (KHTML, like Gecko) Chrome/17.0.963.56 Safari/535.11\",\n",
    "            \"Mozilla/5.0 (Macintosh; Intel Mac OS X 10_7_3) AppleWebKit/535.20 (KHTML, like Gecko) Chrome/19.0.1036.7 Safari/535.20\",\n",
    "            \"Opera/9.80 (Macintosh; Intel Mac OS X 10.6.8; U; fr) Presto/2.9.168 Version/11.52\",\n",
    "            'Mozilla/5.0 (Windows NT 10.0; Win64; x64) AppleWebKit/537.36 (KHTML, like Gecko) Chrome/78.0.3904.108 Safari/537.36'\n",
    "        ]\n",
    "    df_cols = [ '城市',\n",
    "                '小区名称',\n",
    "                '小区id',\n",
    "                '挂牌价格（万）',\n",
    "                '成交周期（天）',\n",
    "                '调价（次）',\n",
    "                '成交日期',\n",
    "                '浏览（次）',\n",
    "                '链家编号',\n",
    "                '所在区域',\n",
    "                '房屋户型',\n",
    "                '所在楼层',\n",
    "                '建筑面积',\n",
    "                '户型结构',\n",
    "                '套内面积',\n",
    "                '建筑类型',\n",
    "                '房屋朝向',\n",
    "                '装修情况',\n",
    "                '建筑结构',\n",
    "                '梯户比例',\n",
    "                '配备电梯',\n",
    "                '交易权属',\n",
    "                '挂牌时间',\n",
    "                \n",
    "                '房屋用途',\n",
    "                '房屋年限',\n",
    "                '产权所属',\n",
    "                '关注次数',\n",
    "                '看房次数',\n",
    "                '房屋链接']\n",
    "    result_house_df = pd.DataFrame()\n",
    "   \n",
    "    #count=0\n",
    "    \n",
    "    for link in tqdm(xiaoqulinks):\n",
    "        agent = random.choice(user_agenrs)\n",
    "        parts=link.split('/')\n",
    "        #把城市简称提出来\n",
    "        get_city=parts[2].split('.')\n",
    "        a_city=get_city[0]\n",
    "        head0={'User-Agent':agent}\n",
    "        link_r=requests.get(link,headers=head0)\n",
    "        link_html=etree.HTML(link_r.text)\n",
    "        xiaoqu_name_path=link_html.xpath(\"//div[@class='xiaoquDetailHeaderContent clear']/div[@class='detailHeader fl']/h1[@class='detailTitle']/text()\")\n",
    "        if xiaoqu_name_path:\n",
    "            xiaoqu_name=xiaoqu_name_path[0].strip()\n",
    "        else:\n",
    "            xiaoqu_name=\"NA\"\n",
    "        \n",
    "        xiaoqu_diqu_path=link_html.xpath(\"//div[@class='xiaoquDetailHeaderContent clear']/div[@class='detailHeader fl']/div[@class='detailDesc']/text()\")\n",
    "        if xiaoqu_diqu_path:\n",
    "            xiaoqu_diqu=xiaoqu_diqu_path[0].strip()\n",
    "        else:\n",
    "            xiaoqu_diqu=\"NA\"\n",
    "        \n",
    "        url=f'https://{parts[2]}/chengjiao/c{parts[4]}/'\n",
    "        head={'Host':parts[2],\n",
    "             'Referer':url,\n",
    "             'User-Agent':agent,\n",
    "             'cookie':cookies}\n",
    "        source_r=requests.get(url,headers=head)\n",
    "        source_html=etree.HTML(source_r.text)\n",
    "        \n",
    "        #count+=1\n",
    "        if len(source_html.xpath(\"//ul[@class='listContent']//li//a[@class='img']/@href\")) ==0:\n",
    "            # print(city_name,xiaoqu_info_df['district'][i],xiaoqu_info_df['area'][i],xiaoqu_info_df['name'][i],'|',xiaoqu_info_df['id'][i],'无成交记录')\n",
    "            pass\n",
    "        else :\n",
    "            for page in range (1,101):\n",
    "                target_url =f'https://{parts[2]}/chengjiao/pg {str(page)}c{parts[4]}/'\n",
    "                r = requests.get(target_url,headers=head)\n",
    "                html=etree.HTML(r.text)\n",
    "                #count+=1\n",
    "                if len(html.xpath(\"//ul[@class='listContent']//li//a[@class='img']//@href\")) >0 :\n",
    "                    # print('in')\n",
    "\n",
    "                    house_url_list = html.xpath(\"//ul[@class='listContent']//li//a[@class='img']//@href\")\n",
    "                    \n",
    "                    house_deal_date_list = html.xpath(\"//div[@class='dealDate']//text()\")\n",
    "                    \n",
    "                    # print(house_url_list)\n",
    "                    # print(house_deal_date_list)\n",
    "                    house_head = {\n",
    "                        'Host': parts[2],\n",
    "                        'Referer': target_url,\n",
    "                        'User-Agent': agent,\n",
    "                        'cookie':cookies\n",
    "                        }\n",
    "\n",
    "                    #指标：城市、地区、小区名称、小区代码、参考总价、参考单价、房屋户型、所在楼层、户型结构、建筑面积、房屋朝向、建筑类型、建筑结构、梯户比例\n",
    "                    #配备电梯、装修情况、挂牌时间、上次交易、交易权属、房屋用途、产权所属、房屋年限、产权所属、抵押信息、房本备件\n",
    "\n",
    "                    city_list=[]\n",
    "                    xiaoqu_name_list=[]\n",
    "                    \n",
    "                    xiaoqu_id_list=[]\n",
    "                    \n",
    "                    guapai_price_list=[]\n",
    "                    chengjiao_zhouqi_list=[]\n",
    "                    house_tiaojia_list=[]\n",
    "                    house_lianjia_list=[]\n",
    "                    house_liulan_list=[]\n",
    "                    xiaoqu_diqu_list=[]\n",
    "                    house_huxing_list = []\n",
    "                    house_louceng_list = []\n",
    "                    house_mianji_list = []\n",
    "                    house_hxjiegou_list = []\n",
    "                    house_taonei_list = []\n",
    "                    house_leixing_list = []\n",
    "                    house_chaoxiang_list = []\n",
    "                    '''\n",
    "                    house_niandai_list = []\n",
    "                    '''\n",
    "                    house_zhuangxiu_list = []\n",
    "                    house_jzjiegou_list = []\n",
    "                    '''\n",
    "                    house_gongnuan_list = []\n",
    "                    '''\n",
    "                    house_tihu_list = []\n",
    "                    house_dianti_list = []\n",
    "                    house_jiaoyiquanshu_list = []\n",
    "                    house_guapai_list = []\n",
    "                    \n",
    "                    house_yongtu_list = []\n",
    "                    house_nianxian_list = []\n",
    "                    house_suoshu_list = []\n",
    "                    '''\n",
    "                    house_dealTotalPrice_list = []\n",
    "                    house_avg_price_list = []\n",
    "                    house_guapai_price_list = []\n",
    "                    house_chengjiaozhouqi_list = []\n",
    "                    house_tiaojia_list = []\n",
    "                    house_daikan_list = []\n",
    "                    '''\n",
    "                    house_guanzhu_list = []\n",
    "                    \n",
    "                    house_kanguo_list = []\n",
    "                    for j in range(0,len(house_url_list)):\n",
    "    \n",
    "                        house_url = house_url_list[j] \n",
    "                        '''\n",
    "                        house_deal_date = house_deal_date_list[j]\n",
    "                        '''\n",
    "                        #print(house_url)\n",
    "                        house_html = etree.HTML(requests.get(house_url,headers=house_head).text)\n",
    "                        '''\n",
    "                        sec = random.randint(1,15)\n",
    "                        print(\"sleep\",sec)\n",
    "                        time.sleep(sec)\n",
    "                        '''\n",
    "                        #count = count+1\n",
    "                        # if len((house_html.xpath(\"//div[@class='row']//h1[contains(text(),'人机认证')]//text()\")))>0:\n",
    "                        # print((house_html.xpath(\"//div[@class='row']//h1//text()\"))[0].replace(' ',''))\n",
    "                        lianjia_bianhao = (house_html.xpath(\"//div[@class='content']/ul/li/span[@class='label'][contains(text(),'链家编号')]/../text()\")[0]).replace(' ','')\n",
    "                        guapai_price = (house_html.xpath(\"//div[@class='msg']/span[contains(text(),'挂牌价格（万）')]/label/text()\")[0]).replace(' ','')\n",
    "                        chengjiao_zhouqi=(house_html.xpath(\"//div[@class='msg']/span[contains(text(),'成交周期（天）')]/label/text()\")[0]).replace(' ','')\n",
    "                        house_tiaojia=(house_html.xpath(\"//div[@class='msg']/span[contains(text(),'调价（次）')]/label/text()\")[0]).replace(' ','')\n",
    "                        house_liulan=(house_html.xpath(\"//div[@class='msg']/span[contains(text(),'浏览（次）')]/label/text()\")[0]).replace(' ','')\n",
    "                        house_lianjia=(house_html.xpath(\"//div[@class='content']/ul/li/span[@class='label'][contains(text(),'链家编号')]/../text()\")[0]).replace(' ','')\n",
    "                       \n",
    "                        \n",
    "                        huxing = house_html.xpath(\"//div[@class='content']/ul/li/span[@class='label'][contains(text(),'房屋户型')]/../text()\")\n",
    "                        if huxing:\n",
    "                            house_huxing = huxing[0].strip()\n",
    "                        else:\n",
    "                            house_huxing = \"NA\"\n",
    "                        \n",
    "                        \n",
    "        \n",
    "                        louceng = house_html.xpath(\"//div[@class='content']/ul/li/span[@class='label'][contains(text(),'所在楼层')]/../text()\")\n",
    "                        if louceng:\n",
    "                            house_louceng = louceng[0].strip()\n",
    "                        else:\n",
    "                            house_louceng = \"NA\"\n",
    "                \n",
    "                        mianji = house_html.xpath (\"//div[@class='content']/ul/li/span[@class='label'][contains(text(),'建筑面积')]/../text()\")\n",
    "                        if mianji:\n",
    "                            house_mianji = mianji[0].strip()\n",
    "                        else:\n",
    "                            house_mianji = \"NA\"\n",
    "                        \n",
    "                        \n",
    "                        hxjiegou = house_html.xpath(\"//div[@class='content']/ul/li/span[@class='label'][contains(text(),'户型结构')]/../text()\")\n",
    "                        if hxjiegou:\n",
    "                            house_hxjiegou = hxjiegou[0].strip()\n",
    "                        else:\n",
    "                            house_hxjiegou = \"NA\"\n",
    "                        \n",
    "                        \n",
    "                        taonei = house_html.xpath(\"//div[@class='content']/ul/li/span[@class='label'][contains(text(),'套内面积')]/../text()\")\n",
    "                        if taonei:\n",
    "                            house_taonei = taonei[0].strip()\n",
    "                        else:\n",
    "                            house_taonei = \"NA\"\n",
    "                        \n",
    "                        \n",
    "                        leixing = house_html.xpath(\"//div[@class='content']/ul/li/span[@class='label'][contains(text(),'建筑类型')]/../text()\")\n",
    "                        if leixing:\n",
    "                            house_leixing = leixing[0].strip()\n",
    "                        else:\n",
    "                            house_leixing = \"NA\"\n",
    "                        \n",
    "                        \n",
    "                        chaoxiang = house_html.xpath(\"//div[@class='content']/ul/li/span[@class='label'][contains(text(),'房屋朝向')]/../text()\")\n",
    "                        if chaoxiang:\n",
    "                            house_chaoxiang = chaoxiang[0].strip()\n",
    "                        else:\n",
    "                            house_chaoxiang = \"NA\"\n",
    "                        \n",
    "                        \n",
    "                        '''\n",
    "                        house_niandai = (house_html.xpath(\"//div[@class='content']/ul/li/span[@class='label'][contains(text(),'建成年代')]/../text()\")[0]).replace(' ','')\n",
    "                        '''\n",
    "                        zhuangxiu = house_html.xpath(\"//div[@class='content']/ul/li/span[@class='label'][contains(text(),'装修情况')]/../text()\")\n",
    "                        if zhuangxiu:\n",
    "                            house_zhuangxiu = zhuangxiu[0].strip()\n",
    "                        else:\n",
    "                            house_zhuangxiu = \"NA\"\n",
    "                        \n",
    "                        jzjiegou = house_html.xpath(\"//div[@class='content']/ul/li/span[@class='label'][contains(text(),'建筑结构')]/../text()\")\n",
    "                        if jzjiegou:\n",
    "                            house_jzjiegou = jzjiegou[0].strip()\n",
    "                        else:\n",
    "                            house_jzjiegou = \"NA\"\n",
    "                        \n",
    "                        '''\n",
    "                        house_gongnuan = (house_html.xpath(\"//div[@class='content']/ul/li/span[@class='label'][contains(text(),'供暖方式')]/../text()\")[0]).replace(' ','')\n",
    "                        '''\n",
    "                        \n",
    "                        tihu = house_html.xpath(\"//div[@class='content']/ul/li/span[@class='label'][contains(text(),'梯户比例')]/../text()\")\n",
    "                        if tihu:\n",
    "                            house_tihu = tihu[0].strip()\n",
    "                        else:\n",
    "                            house_tihu = \"NA\"\n",
    "                        \n",
    "                        \n",
    "                        dianti = house_html.xpath(\"//div[@class='content']/ul/li/span[@class='label'][contains(text(),'配备电梯')]/../text()\")\n",
    "                        if dianti:\n",
    "                            house_dianti = dianti[0].strip()\n",
    "                        else:\n",
    "                            house_dianti = \"NA\"\n",
    "                        \n",
    "                        \n",
    "                        jiaoyiquanshu = house_html.xpath(\"//div[@class='content']/ul/li/span[@class='label'][contains(text(),'交易权属')]/../text()\")\n",
    "                        if jiaoyiquanshu:\n",
    "                            house_jiaoyiquanshu = jiaoyiquanshu[0].strip()\n",
    "                        else:\n",
    "                            house_jiaoyiquanshu = \"NA\"\n",
    "\n",
    "                        guapai =house_html.xpath(\"//div[@class='content']/ul/li/span[@class='label'][contains(text(),'挂牌时间')]/../text()\")\n",
    "                        if guapai:\n",
    "                            house_guapai = guapai[0].strip()\n",
    "                        else:\n",
    "                            house_guapai = \"NA\"\n",
    "\n",
    "                        \n",
    "                        \n",
    "                        yongtu = house_html.xpath(\"//div[@class='content']/ul/li/span[@class='label'][contains(text(),'房屋用途')]/../text()\")\n",
    "                        if yongtu:\n",
    "                            house_yongtu = yongtu[0].strip()\n",
    "                        else:\n",
    "                            house_yongtu = \"NA\"\n",
    "                        \n",
    "                        nianxian = house_html.xpath(\"//div[@class='content']/ul/li/span[@class='label'][contains(text(),'房屋年限')]/../text()\")\n",
    "                        if nianxian:\n",
    "                            house_nianxian = nianxian[0].strip()\n",
    "                        else:\n",
    "                            house_nianxian = \"NA\"\n",
    "                        \n",
    "                        suoshu = house_html.xpath(\"//div[@class='content']/ul/li/span[@class='label'][contains(text(),'房权所属')]/../text()\")\n",
    "                        if suoshu:\n",
    "                            house_suoshu = suoshu[0].strip()\n",
    "                        else:\n",
    "                            house_suoshu = \"NA\"\n",
    "                        \n",
    "                        '''\n",
    "                        house_dealTotalPrice = (house_html.xpath(\"//span[@class='dealTotalPrice']/i/text()\")[0]).replace(' ','')\n",
    "                        house_avg_price = (house_html.xpath(\"//div[@class='price']/b/text()\")[0]).replace(' ','')\n",
    "                        house_guapai_price = (house_html.xpath(\"//div[@class='msg']/span[contains(text(),'挂牌价格（万）')]/label/text()\")[0]).replace(' ','')\n",
    "                        house_chengjiaozhouqi = (house_html.xpath(\"//div[@class='msg']/span[contains(text(),'成交周期（天）')]/label/text()\")[0]).replace(' ','')\n",
    "                        house_tiaojia = (house_html.xpath(\"//div[@class='msg']/span[contains(text(),'调价（次）')]/label/text()\")[0]).replace(' ','')\n",
    "                        house_daikan = (house_html.xpath(\"//div[@class='msg']/span[contains(text(),'带看（次）')]/label/text()\")[0]).replace(' ','')\n",
    "                        '''\n",
    "                        guanzhu = house_html.xpath(\"//div[@class='msg']/span[contains(text(),'关注（人）')]/label/text()\")\n",
    "                        if guanzhu:\n",
    "                            house_guanzhu = guanzhu[0].strip()\n",
    "                        else:\n",
    "                            house_guanzhu = \"NA\"\n",
    "                        \n",
    "                        kanguo = house_html.xpath(\"//div[@class='msg']/span[contains(text(),'带看（次）')]/label/text()\")\n",
    "                        if kanguo:\n",
    "                            house_kanguo = kanguo[0].strip()\n",
    "                        else:\n",
    "                            house_kanguo = \"NA\"\n",
    "                            \n",
    "                        '''\n",
    "                        house_liulan = (house_html.xpath(\"//div[@class='msg']/span[contains(text(),'浏览（次）')]/label/text()\")[0]).replace(' ','')\n",
    "                        '''\n",
    "\n",
    "                        '''\n",
    "                        xiaoqu_id_list.append(xiaoqu_id)\n",
    "                        xiaoqu_name_list.append(xiaoqu_name)\n",
    "                        house_id_list.append(house_id)\n",
    "                        '''\n",
    "                        xiaoqu_name_list.append(xiaoqu_name)\n",
    "                        xiaoqu_diqu_list.append(xiaoqu_diqu)\n",
    "                        city_list.append(a_city)\n",
    "                        xiaoqu_id_list.append(parts[4])\n",
    "                        guapai_price_list.append(guapai_price)\n",
    "                        chengjiao_zhouqi_list.append(chengjiao_zhouqi)\n",
    "                        house_tiaojia_list.append(house_tiaojia)\n",
    "                        house_liulan_list.append(house_liulan)\n",
    "                        house_lianjia_list.append(house_lianjia)\n",
    "                        \n",
    "                        \n",
    "                        house_huxing_list.append(house_huxing)\n",
    "                        house_louceng_list.append(house_louceng)\n",
    "                        house_mianji_list.append(house_mianji)\n",
    "                        house_hxjiegou_list.append(house_hxjiegou)\n",
    "                        house_taonei_list.append(house_taonei)\n",
    "                        house_leixing_list.append(house_leixing)\n",
    "                        house_chaoxiang_list.append(house_chaoxiang)\n",
    "                        '''house_niandai_list.append(house_niandai)\n",
    "                        '''\n",
    "                        house_zhuangxiu_list.append(house_zhuangxiu)\n",
    "                        house_jzjiegou_list.append(house_jzjiegou)\n",
    "                        '''\n",
    "                        house_gongnuan_list.append(house_gongnuan)\n",
    "                        '''\n",
    "                        house_tihu_list.append(house_tihu)\n",
    "                        house_dianti_list.append(house_dianti)\n",
    "\n",
    "                        house_jiaoyiquanshu_list.append(house_jiaoyiquanshu)\n",
    "\n",
    "                        house_guapai_list.append(house_guapai)\n",
    "                        \n",
    "                        house_yongtu_list.append(house_yongtu)\n",
    "                        house_nianxian_list.append(house_nianxian)\n",
    "                        house_suoshu_list.append(house_suoshu)\n",
    "                        '''\n",
    "                        house_dealTotalPrice_list.append(house_dealTotalPrice)\n",
    "                        house_avg_price_list.append(house_avg_price)\n",
    "                        house_guapai_price_list.append(house_guapai_price)\n",
    "                        house_chengjiaozhouqi_list.append(house_chengjiaozhouqi)\n",
    "                        '''\n",
    "                        '''\n",
    "                        house_tiaojia_list.append(house_tiaojia)\n",
    "\n",
    "                        house_daikan_list.append(house_daikan)\n",
    "                        '''\n",
    "                        house_guanzhu_list.append(house_guanzhu)\n",
    "                        house_kanguo_list.append(house_kanguo)\n",
    "                        '''\n",
    "                        house_liulan_list.append(house_liulan)\n",
    "                        '''\n",
    "\n",
    "                    tmp_house_df = pd.DataFrame(map(list,zip(\n",
    "\n",
    "                        city_list,\n",
    "                        xiaoqu_name_list,\n",
    "                        xiaoqu_id_list,\n",
    "                        guapai_price_list,\n",
    "                        chengjiao_zhouqi_list,\n",
    "                        house_tiaojia_list,\n",
    "                        house_deal_date_list,\n",
    "                        house_liulan_list,\n",
    "                        house_lianjia_list,\n",
    "                        xiaoqu_diqu_list,\n",
    "                        house_huxing_list,\n",
    "                        house_louceng_list,\n",
    "                        house_mianji_list,\n",
    "                        house_hxjiegou_list,\n",
    "                        house_taonei_list,\n",
    "                        house_leixing_list,\n",
    "                        house_chaoxiang_list,\n",
    "\n",
    "                        house_zhuangxiu_list,\n",
    "                        house_jzjiegou_list,\n",
    "\n",
    "                        house_tihu_list,\n",
    "                        house_dianti_list,\n",
    "                        house_jiaoyiquanshu_list,\n",
    "                        house_guapai_list,\n",
    "                        \n",
    "                        house_yongtu_list,\n",
    "                        house_nianxian_list,\n",
    "                        house_suoshu_list,\n",
    "\n",
    "                        house_guanzhu_list,\n",
    "                        house_kanguo_list,\n",
    "                        house_url_list)),columns=df_cols)\n",
    "                    #print(tmp_house_df.head())\n",
    "                    #print(\"===============count===========:\",count)\n",
    "                    feather_filename = 'check_temp.feather'\n",
    "                    feather.write_feather(tmp_house_df, feather_filename)   \n",
    "\n",
    "                    result_house_df=pd.concat([result_house_df, tmp_house_df], axis=0)\n",
    "                    \n",
    "                soup = BeautifulSoup(r.text, 'html.parser')\n",
    "                next_button = soup.find('button', {'id': 'next-button'})\n",
    "\n",
    "                # 判断下一页按钮是否可点击，如果不可点击则退出循环\n",
    "                if not next_button or 'disabled' in next_button.attrs:\n",
    "                    break\n",
    "                else :\n",
    "                    print('该页面无剩余房源')\n",
    "                    break\n",
    "    result_house_df = result_house_df.drop_duplicates(subset=df_cols)\n",
    "    feather_filename1 = 'check_result_chengjiao.feather'\n",
    "    feather.write_feather(result_house_df, feather_filename1)   \n",
    "    return result_house_df\n"
   ]
  },
  {
   "cell_type": "code",
   "execution_count": 3,
   "id": "4f4c2cad",
   "metadata": {},
   "outputs": [],
   "source": [
    "all_xiaoqu=pd.read_feather('xiaoqulinks.feather')\n",
    "all_xiaoqu_list=all_xiaoqu['Links'].tolist()\n",
    "all_xiaoqu_list=list(set(all_xiaoqu_list))"
   ]
  },
  {
   "cell_type": "code",
   "execution_count": 4,
   "id": "d1e518d3",
   "metadata": {},
   "outputs": [],
   "source": [
    "import pickle"
   ]
  },
  {
   "cell_type": "code",
   "execution_count": 5,
   "id": "6d1f15af",
   "metadata": {},
   "outputs": [],
   "source": [
    "with open('xiaoqulist.pickle', 'rb') as f:\n",
    "    xiaoqu_list_national = pickle.load(f)"
   ]
  },
  {
   "cell_type": "code",
   "execution_count": 6,
   "id": "afeedd07",
   "metadata": {},
   "outputs": [],
   "source": [
    "xiaoqu_list_national=list(set(xiaoqu_list_national))"
   ]
  },
  {
   "cell_type": "code",
   "execution_count": 7,
   "id": "b26d90e2",
   "metadata": {},
   "outputs": [],
   "source": [
    "xiaoqu_new=list(set(xiaoqu_list_national)-set(all_xiaoqu_list))"
   ]
  },
  {
   "cell_type": "code",
   "execution_count": 8,
   "id": "f5f927cc",
   "metadata": {},
   "outputs": [
    {
     "data": {
      "text/plain": [
       "108754"
      ]
     },
     "execution_count": 8,
     "metadata": {},
     "output_type": "execute_result"
    }
   ],
   "source": [
    "new_tier_one=[]\n",
    "for i in xiaoqu_new:\n",
    "    parts1=i.split('/')\n",
    "    if parts1[2] in ['cd.lianjia.com','cq.lianjia.com','hz.lianjia.com','wh.lianjia.com','su.lianjia.com','xa.lianjia.com','nj.lianjia.com','cs.lianjia.com','tj.lianjia.com','zz.lianjia.com','dg.lianjia.com','qd.lianjia.com','km.lianjia.com','nb.lianjia.com','hf.lianjia.com']:\n",
    "        new_tier_one.append(i)\n",
    "new_tier_one.sort()        \n",
    "len(new_tier_one)"
   ]
  },
  {
   "cell_type": "code",
   "execution_count": 9,
   "id": "82d02eac",
   "metadata": {},
   "outputs": [
    {
     "data": {
      "text/plain": [
       "363"
      ]
     },
     "execution_count": 9,
     "metadata": {},
     "output_type": "execute_result"
    }
   ],
   "source": [
    "new_tier_one_split=[new_tier_one[i:i+300] for i in range(0, len(new_tier_one), 300)]\n",
    "len(new_tier_one_split)"
   ]
  },
  {
   "cell_type": "code",
   "execution_count": 11,
   "id": "ca0db83c",
   "metadata": {
    "scrolled": true
   },
   "outputs": [
    {
     "name": "stdout",
     "output_type": "stream",
     "text": [
      "52\n"
     ]
    },
    {
     "name": "stderr",
     "output_type": "stream",
     "text": [
      "100%|████████████████████████████████████████████████████████████████████████████████| 300/300 [44:00<00:00,  8.80s/it]\n"
     ]
    },
    {
     "name": "stdout",
     "output_type": "stream",
     "text": [
      "53\n"
     ]
    },
    {
     "name": "stderr",
     "output_type": "stream",
     "text": [
      "100%|████████████████████████████████████████████████████████████████████████████████| 300/300 [54:29<00:00, 10.90s/it]\n"
     ]
    },
    {
     "name": "stdout",
     "output_type": "stream",
     "text": [
      "54\n"
     ]
    },
    {
     "name": "stderr",
     "output_type": "stream",
     "text": [
      "100%|████████████████████████████████████████████████████████████████████████████████| 300/300 [45:41<00:00,  9.14s/it]\n"
     ]
    },
    {
     "name": "stdout",
     "output_type": "stream",
     "text": [
      "55\n"
     ]
    },
    {
     "name": "stderr",
     "output_type": "stream",
     "text": [
      "100%|██████████████████████████████████████████████████████████████████████████████| 300/300 [1:00:08<00:00, 12.03s/it]\n"
     ]
    },
    {
     "name": "stdout",
     "output_type": "stream",
     "text": [
      "56\n"
     ]
    },
    {
     "name": "stderr",
     "output_type": "stream",
     "text": [
      "100%|████████████████████████████████████████████████████████████████████████████████| 300/300 [24:34<00:00,  4.91s/it]\n"
     ]
    },
    {
     "name": "stdout",
     "output_type": "stream",
     "text": [
      "57\n"
     ]
    },
    {
     "name": "stderr",
     "output_type": "stream",
     "text": [
      "100%|████████████████████████████████████████████████████████████████████████████████| 300/300 [44:07<00:00,  8.82s/it]\n"
     ]
    },
    {
     "name": "stdout",
     "output_type": "stream",
     "text": [
      "58\n"
     ]
    },
    {
     "name": "stderr",
     "output_type": "stream",
     "text": [
      "100%|████████████████████████████████████████████████████████████████████████████████| 300/300 [10:07<00:00,  2.03s/it]\n"
     ]
    },
    {
     "name": "stdout",
     "output_type": "stream",
     "text": [
      "59\n"
     ]
    },
    {
     "name": "stderr",
     "output_type": "stream",
     "text": [
      "100%|████████████████████████████████████████████████████████████████████████████████| 300/300 [09:29<00:00,  1.90s/it]\n"
     ]
    },
    {
     "name": "stdout",
     "output_type": "stream",
     "text": [
      "60\n"
     ]
    },
    {
     "name": "stderr",
     "output_type": "stream",
     "text": [
      "100%|████████████████████████████████████████████████████████████████████████████████| 300/300 [09:45<00:00,  1.95s/it]\n"
     ]
    },
    {
     "name": "stdout",
     "output_type": "stream",
     "text": [
      "61\n"
     ]
    },
    {
     "name": "stderr",
     "output_type": "stream",
     "text": [
      "100%|████████████████████████████████████████████████████████████████████████████████| 300/300 [11:10<00:00,  2.24s/it]\n"
     ]
    },
    {
     "name": "stdout",
     "output_type": "stream",
     "text": [
      "62\n"
     ]
    },
    {
     "name": "stderr",
     "output_type": "stream",
     "text": [
      "100%|████████████████████████████████████████████████████████████████████████████████| 300/300 [11:44<00:00,  2.35s/it]\n"
     ]
    },
    {
     "name": "stdout",
     "output_type": "stream",
     "text": [
      "63\n"
     ]
    },
    {
     "name": "stderr",
     "output_type": "stream",
     "text": [
      "100%|████████████████████████████████████████████████████████████████████████████████| 300/300 [11:56<00:00,  2.39s/it]\n"
     ]
    },
    {
     "name": "stdout",
     "output_type": "stream",
     "text": [
      "64\n"
     ]
    },
    {
     "name": "stderr",
     "output_type": "stream",
     "text": [
      "100%|████████████████████████████████████████████████████████████████████████████████| 300/300 [11:39<00:00,  2.33s/it]\n"
     ]
    },
    {
     "name": "stdout",
     "output_type": "stream",
     "text": [
      "65\n"
     ]
    },
    {
     "name": "stderr",
     "output_type": "stream",
     "text": [
      "100%|████████████████████████████████████████████████████████████████████████████████| 300/300 [12:14<00:00,  2.45s/it]\n"
     ]
    },
    {
     "name": "stdout",
     "output_type": "stream",
     "text": [
      "66\n"
     ]
    },
    {
     "name": "stderr",
     "output_type": "stream",
     "text": [
      "100%|████████████████████████████████████████████████████████████████████████████████| 300/300 [12:16<00:00,  2.45s/it]\n"
     ]
    },
    {
     "name": "stdout",
     "output_type": "stream",
     "text": [
      "67\n"
     ]
    },
    {
     "name": "stderr",
     "output_type": "stream",
     "text": [
      "100%|████████████████████████████████████████████████████████████████████████████████| 300/300 [12:13<00:00,  2.45s/it]\n"
     ]
    },
    {
     "name": "stdout",
     "output_type": "stream",
     "text": [
      "68\n"
     ]
    },
    {
     "name": "stderr",
     "output_type": "stream",
     "text": [
      "100%|████████████████████████████████████████████████████████████████████████████████| 300/300 [11:57<00:00,  2.39s/it]\n"
     ]
    },
    {
     "name": "stdout",
     "output_type": "stream",
     "text": [
      "69\n"
     ]
    },
    {
     "name": "stderr",
     "output_type": "stream",
     "text": [
      "100%|████████████████████████████████████████████████████████████████████████████████| 300/300 [12:36<00:00,  2.52s/it]\n"
     ]
    },
    {
     "name": "stdout",
     "output_type": "stream",
     "text": [
      "70\n"
     ]
    },
    {
     "name": "stderr",
     "output_type": "stream",
     "text": [
      "100%|████████████████████████████████████████████████████████████████████████████████| 300/300 [12:22<00:00,  2.48s/it]\n"
     ]
    },
    {
     "name": "stdout",
     "output_type": "stream",
     "text": [
      "71\n"
     ]
    },
    {
     "name": "stderr",
     "output_type": "stream",
     "text": [
      "100%|████████████████████████████████████████████████████████████████████████████████| 300/300 [12:56<00:00,  2.59s/it]\n"
     ]
    },
    {
     "name": "stdout",
     "output_type": "stream",
     "text": [
      "72\n"
     ]
    },
    {
     "name": "stderr",
     "output_type": "stream",
     "text": [
      "100%|████████████████████████████████████████████████████████████████████████████████| 300/300 [12:06<00:00,  2.42s/it]\n"
     ]
    },
    {
     "name": "stdout",
     "output_type": "stream",
     "text": [
      "73\n"
     ]
    },
    {
     "name": "stderr",
     "output_type": "stream",
     "text": [
      " 91%|████████████████████████████████████████████████████████████████████████▊       | 273/300 [11:30<01:08,  2.53s/it]\n"
     ]
    },
    {
     "ename": "KeyboardInterrupt",
     "evalue": "",
     "output_type": "error",
     "traceback": [
      "\u001b[1;31m---------------------------------------------------------------------------\u001b[0m",
      "\u001b[1;31mKeyboardInterrupt\u001b[0m                         Traceback (most recent call last)",
      "Input \u001b[1;32mIn [11]\u001b[0m, in \u001b[0;36m<cell line: 5>\u001b[1;34m()\u001b[0m\n\u001b[0;32m      5\u001b[0m \u001b[38;5;28;01mfor\u001b[39;00m xiaoqu \u001b[38;5;129;01min\u001b[39;00m new_tier_one_split[\u001b[38;5;241m51\u001b[39m:]:\n\u001b[0;32m      6\u001b[0m     \u001b[38;5;28mprint\u001b[39m(count)\n\u001b[1;32m----> 7\u001b[0m     temp\u001b[38;5;241m=\u001b[39m\u001b[43mget_xiaoqu_chengjiao\u001b[49m\u001b[43m(\u001b[49m\u001b[43mxiaoqu\u001b[49m\u001b[43m,\u001b[49m\u001b[43mcookies\u001b[49m\u001b[43m)\u001b[49m\n\u001b[0;32m      8\u001b[0m     chengjiao_df\u001b[38;5;241m=\u001b[39mpd\u001b[38;5;241m.\u001b[39mconcat([chengjiao_df, temp], axis\u001b[38;5;241m=\u001b[39m\u001b[38;5;241m0\u001b[39m)\n\u001b[0;32m      9\u001b[0m     feather\u001b[38;5;241m.\u001b[39mwrite_feather(chengjiao_df, chengjiao_filename)\n",
      "Input \u001b[1;32mIn [2]\u001b[0m, in \u001b[0;36mget_xiaoqu_chengjiao\u001b[1;34m(xiaoqulinks, cookies)\u001b[0m\n\u001b[0;32m     61\u001b[0m a_city\u001b[38;5;241m=\u001b[39mget_city[\u001b[38;5;241m0\u001b[39m]\n\u001b[0;32m     62\u001b[0m head0\u001b[38;5;241m=\u001b[39m{\u001b[38;5;124m'\u001b[39m\u001b[38;5;124mUser-Agent\u001b[39m\u001b[38;5;124m'\u001b[39m:agent}\n\u001b[1;32m---> 63\u001b[0m link_r\u001b[38;5;241m=\u001b[39m\u001b[43mrequests\u001b[49m\u001b[38;5;241;43m.\u001b[39;49m\u001b[43mget\u001b[49m\u001b[43m(\u001b[49m\u001b[43mlink\u001b[49m\u001b[43m,\u001b[49m\u001b[43mheaders\u001b[49m\u001b[38;5;241;43m=\u001b[39;49m\u001b[43mhead0\u001b[49m\u001b[43m)\u001b[49m\n\u001b[0;32m     64\u001b[0m link_html\u001b[38;5;241m=\u001b[39metree\u001b[38;5;241m.\u001b[39mHTML(link_r\u001b[38;5;241m.\u001b[39mtext)\n\u001b[0;32m     65\u001b[0m xiaoqu_name_path\u001b[38;5;241m=\u001b[39mlink_html\u001b[38;5;241m.\u001b[39mxpath(\u001b[38;5;124m\"\u001b[39m\u001b[38;5;124m//div[@class=\u001b[39m\u001b[38;5;124m'\u001b[39m\u001b[38;5;124mxiaoquDetailHeaderContent clear\u001b[39m\u001b[38;5;124m'\u001b[39m\u001b[38;5;124m]/div[@class=\u001b[39m\u001b[38;5;124m'\u001b[39m\u001b[38;5;124mdetailHeader fl\u001b[39m\u001b[38;5;124m'\u001b[39m\u001b[38;5;124m]/h1[@class=\u001b[39m\u001b[38;5;124m'\u001b[39m\u001b[38;5;124mdetailTitle\u001b[39m\u001b[38;5;124m'\u001b[39m\u001b[38;5;124m]/text()\u001b[39m\u001b[38;5;124m\"\u001b[39m)\n",
      "File \u001b[1;32mD:\\anaconda3\\lib\\site-packages\\requests\\api.py:75\u001b[0m, in \u001b[0;36mget\u001b[1;34m(url, params, **kwargs)\u001b[0m\n\u001b[0;32m     64\u001b[0m \u001b[38;5;28;01mdef\u001b[39;00m \u001b[38;5;21mget\u001b[39m(url, params\u001b[38;5;241m=\u001b[39m\u001b[38;5;28;01mNone\u001b[39;00m, \u001b[38;5;241m*\u001b[39m\u001b[38;5;241m*\u001b[39mkwargs):\n\u001b[0;32m     65\u001b[0m     \u001b[38;5;124mr\u001b[39m\u001b[38;5;124;03m\"\"\"Sends a GET request.\u001b[39;00m\n\u001b[0;32m     66\u001b[0m \n\u001b[0;32m     67\u001b[0m \u001b[38;5;124;03m    :param url: URL for the new :class:`Request` object.\u001b[39;00m\n\u001b[1;32m   (...)\u001b[0m\n\u001b[0;32m     72\u001b[0m \u001b[38;5;124;03m    :rtype: requests.Response\u001b[39;00m\n\u001b[0;32m     73\u001b[0m \u001b[38;5;124;03m    \"\"\"\u001b[39;00m\n\u001b[1;32m---> 75\u001b[0m     \u001b[38;5;28;01mreturn\u001b[39;00m request(\u001b[38;5;124m'\u001b[39m\u001b[38;5;124mget\u001b[39m\u001b[38;5;124m'\u001b[39m, url, params\u001b[38;5;241m=\u001b[39mparams, \u001b[38;5;241m*\u001b[39m\u001b[38;5;241m*\u001b[39mkwargs)\n",
      "File \u001b[1;32mD:\\anaconda3\\lib\\site-packages\\requests\\api.py:61\u001b[0m, in \u001b[0;36mrequest\u001b[1;34m(method, url, **kwargs)\u001b[0m\n\u001b[0;32m     57\u001b[0m \u001b[38;5;66;03m# By using the 'with' statement we are sure the session is closed, thus we\u001b[39;00m\n\u001b[0;32m     58\u001b[0m \u001b[38;5;66;03m# avoid leaving sockets open which can trigger a ResourceWarning in some\u001b[39;00m\n\u001b[0;32m     59\u001b[0m \u001b[38;5;66;03m# cases, and look like a memory leak in others.\u001b[39;00m\n\u001b[0;32m     60\u001b[0m \u001b[38;5;28;01mwith\u001b[39;00m sessions\u001b[38;5;241m.\u001b[39mSession() \u001b[38;5;28;01mas\u001b[39;00m session:\n\u001b[1;32m---> 61\u001b[0m     \u001b[38;5;28;01mreturn\u001b[39;00m session\u001b[38;5;241m.\u001b[39mrequest(method\u001b[38;5;241m=\u001b[39mmethod, url\u001b[38;5;241m=\u001b[39murl, \u001b[38;5;241m*\u001b[39m\u001b[38;5;241m*\u001b[39mkwargs)\n",
      "File \u001b[1;32mD:\\anaconda3\\lib\\site-packages\\requests\\sessions.py:529\u001b[0m, in \u001b[0;36mSession.request\u001b[1;34m(self, method, url, params, data, headers, cookies, files, auth, timeout, allow_redirects, proxies, hooks, stream, verify, cert, json)\u001b[0m\n\u001b[0;32m    524\u001b[0m send_kwargs \u001b[38;5;241m=\u001b[39m {\n\u001b[0;32m    525\u001b[0m     \u001b[38;5;124m'\u001b[39m\u001b[38;5;124mtimeout\u001b[39m\u001b[38;5;124m'\u001b[39m: timeout,\n\u001b[0;32m    526\u001b[0m     \u001b[38;5;124m'\u001b[39m\u001b[38;5;124mallow_redirects\u001b[39m\u001b[38;5;124m'\u001b[39m: allow_redirects,\n\u001b[0;32m    527\u001b[0m }\n\u001b[0;32m    528\u001b[0m send_kwargs\u001b[38;5;241m.\u001b[39mupdate(settings)\n\u001b[1;32m--> 529\u001b[0m resp \u001b[38;5;241m=\u001b[39m \u001b[38;5;28mself\u001b[39m\u001b[38;5;241m.\u001b[39msend(prep, \u001b[38;5;241m*\u001b[39m\u001b[38;5;241m*\u001b[39msend_kwargs)\n\u001b[0;32m    531\u001b[0m \u001b[38;5;28;01mreturn\u001b[39;00m resp\n",
      "File \u001b[1;32mD:\\anaconda3\\lib\\site-packages\\requests\\sessions.py:645\u001b[0m, in \u001b[0;36mSession.send\u001b[1;34m(self, request, **kwargs)\u001b[0m\n\u001b[0;32m    642\u001b[0m start \u001b[38;5;241m=\u001b[39m preferred_clock()\n\u001b[0;32m    644\u001b[0m \u001b[38;5;66;03m# Send the request\u001b[39;00m\n\u001b[1;32m--> 645\u001b[0m r \u001b[38;5;241m=\u001b[39m adapter\u001b[38;5;241m.\u001b[39msend(request, \u001b[38;5;241m*\u001b[39m\u001b[38;5;241m*\u001b[39mkwargs)\n\u001b[0;32m    647\u001b[0m \u001b[38;5;66;03m# Total elapsed time of the request (approximately)\u001b[39;00m\n\u001b[0;32m    648\u001b[0m elapsed \u001b[38;5;241m=\u001b[39m preferred_clock() \u001b[38;5;241m-\u001b[39m start\n",
      "File \u001b[1;32mD:\\anaconda3\\lib\\site-packages\\requests\\adapters.py:440\u001b[0m, in \u001b[0;36mHTTPAdapter.send\u001b[1;34m(self, request, stream, timeout, verify, cert, proxies)\u001b[0m\n\u001b[0;32m    438\u001b[0m \u001b[38;5;28;01mtry\u001b[39;00m:\n\u001b[0;32m    439\u001b[0m     \u001b[38;5;28;01mif\u001b[39;00m \u001b[38;5;129;01mnot\u001b[39;00m chunked:\n\u001b[1;32m--> 440\u001b[0m         resp \u001b[38;5;241m=\u001b[39m \u001b[43mconn\u001b[49m\u001b[38;5;241;43m.\u001b[39;49m\u001b[43murlopen\u001b[49m\u001b[43m(\u001b[49m\n\u001b[0;32m    441\u001b[0m \u001b[43m            \u001b[49m\u001b[43mmethod\u001b[49m\u001b[38;5;241;43m=\u001b[39;49m\u001b[43mrequest\u001b[49m\u001b[38;5;241;43m.\u001b[39;49m\u001b[43mmethod\u001b[49m\u001b[43m,\u001b[49m\n\u001b[0;32m    442\u001b[0m \u001b[43m            \u001b[49m\u001b[43murl\u001b[49m\u001b[38;5;241;43m=\u001b[39;49m\u001b[43murl\u001b[49m\u001b[43m,\u001b[49m\n\u001b[0;32m    443\u001b[0m \u001b[43m            \u001b[49m\u001b[43mbody\u001b[49m\u001b[38;5;241;43m=\u001b[39;49m\u001b[43mrequest\u001b[49m\u001b[38;5;241;43m.\u001b[39;49m\u001b[43mbody\u001b[49m\u001b[43m,\u001b[49m\n\u001b[0;32m    444\u001b[0m \u001b[43m            \u001b[49m\u001b[43mheaders\u001b[49m\u001b[38;5;241;43m=\u001b[39;49m\u001b[43mrequest\u001b[49m\u001b[38;5;241;43m.\u001b[39;49m\u001b[43mheaders\u001b[49m\u001b[43m,\u001b[49m\n\u001b[0;32m    445\u001b[0m \u001b[43m            \u001b[49m\u001b[43mredirect\u001b[49m\u001b[38;5;241;43m=\u001b[39;49m\u001b[38;5;28;43;01mFalse\u001b[39;49;00m\u001b[43m,\u001b[49m\n\u001b[0;32m    446\u001b[0m \u001b[43m            \u001b[49m\u001b[43massert_same_host\u001b[49m\u001b[38;5;241;43m=\u001b[39;49m\u001b[38;5;28;43;01mFalse\u001b[39;49;00m\u001b[43m,\u001b[49m\n\u001b[0;32m    447\u001b[0m \u001b[43m            \u001b[49m\u001b[43mpreload_content\u001b[49m\u001b[38;5;241;43m=\u001b[39;49m\u001b[38;5;28;43;01mFalse\u001b[39;49;00m\u001b[43m,\u001b[49m\n\u001b[0;32m    448\u001b[0m \u001b[43m            \u001b[49m\u001b[43mdecode_content\u001b[49m\u001b[38;5;241;43m=\u001b[39;49m\u001b[38;5;28;43;01mFalse\u001b[39;49;00m\u001b[43m,\u001b[49m\n\u001b[0;32m    449\u001b[0m \u001b[43m            \u001b[49m\u001b[43mretries\u001b[49m\u001b[38;5;241;43m=\u001b[39;49m\u001b[38;5;28;43mself\u001b[39;49m\u001b[38;5;241;43m.\u001b[39;49m\u001b[43mmax_retries\u001b[49m\u001b[43m,\u001b[49m\n\u001b[0;32m    450\u001b[0m \u001b[43m            \u001b[49m\u001b[43mtimeout\u001b[49m\u001b[38;5;241;43m=\u001b[39;49m\u001b[43mtimeout\u001b[49m\n\u001b[0;32m    451\u001b[0m \u001b[43m        \u001b[49m\u001b[43m)\u001b[49m\n\u001b[0;32m    453\u001b[0m     \u001b[38;5;66;03m# Send the request.\u001b[39;00m\n\u001b[0;32m    454\u001b[0m     \u001b[38;5;28;01melse\u001b[39;00m:\n\u001b[0;32m    455\u001b[0m         \u001b[38;5;28;01mif\u001b[39;00m \u001b[38;5;28mhasattr\u001b[39m(conn, \u001b[38;5;124m'\u001b[39m\u001b[38;5;124mproxy_pool\u001b[39m\u001b[38;5;124m'\u001b[39m):\n",
      "File \u001b[1;32mD:\\anaconda3\\lib\\site-packages\\urllib3\\connectionpool.py:703\u001b[0m, in \u001b[0;36mHTTPConnectionPool.urlopen\u001b[1;34m(self, method, url, body, headers, retries, redirect, assert_same_host, timeout, pool_timeout, release_conn, chunked, body_pos, **response_kw)\u001b[0m\n\u001b[0;32m    700\u001b[0m     \u001b[38;5;28mself\u001b[39m\u001b[38;5;241m.\u001b[39m_prepare_proxy(conn)\n\u001b[0;32m    702\u001b[0m \u001b[38;5;66;03m# Make the request on the httplib connection object.\u001b[39;00m\n\u001b[1;32m--> 703\u001b[0m httplib_response \u001b[38;5;241m=\u001b[39m \u001b[38;5;28;43mself\u001b[39;49m\u001b[38;5;241;43m.\u001b[39;49m\u001b[43m_make_request\u001b[49m\u001b[43m(\u001b[49m\n\u001b[0;32m    704\u001b[0m \u001b[43m    \u001b[49m\u001b[43mconn\u001b[49m\u001b[43m,\u001b[49m\n\u001b[0;32m    705\u001b[0m \u001b[43m    \u001b[49m\u001b[43mmethod\u001b[49m\u001b[43m,\u001b[49m\n\u001b[0;32m    706\u001b[0m \u001b[43m    \u001b[49m\u001b[43murl\u001b[49m\u001b[43m,\u001b[49m\n\u001b[0;32m    707\u001b[0m \u001b[43m    \u001b[49m\u001b[43mtimeout\u001b[49m\u001b[38;5;241;43m=\u001b[39;49m\u001b[43mtimeout_obj\u001b[49m\u001b[43m,\u001b[49m\n\u001b[0;32m    708\u001b[0m \u001b[43m    \u001b[49m\u001b[43mbody\u001b[49m\u001b[38;5;241;43m=\u001b[39;49m\u001b[43mbody\u001b[49m\u001b[43m,\u001b[49m\n\u001b[0;32m    709\u001b[0m \u001b[43m    \u001b[49m\u001b[43mheaders\u001b[49m\u001b[38;5;241;43m=\u001b[39;49m\u001b[43mheaders\u001b[49m\u001b[43m,\u001b[49m\n\u001b[0;32m    710\u001b[0m \u001b[43m    \u001b[49m\u001b[43mchunked\u001b[49m\u001b[38;5;241;43m=\u001b[39;49m\u001b[43mchunked\u001b[49m\u001b[43m,\u001b[49m\n\u001b[0;32m    711\u001b[0m \u001b[43m\u001b[49m\u001b[43m)\u001b[49m\n\u001b[0;32m    713\u001b[0m \u001b[38;5;66;03m# If we're going to release the connection in ``finally:``, then\u001b[39;00m\n\u001b[0;32m    714\u001b[0m \u001b[38;5;66;03m# the response doesn't need to know about the connection. Otherwise\u001b[39;00m\n\u001b[0;32m    715\u001b[0m \u001b[38;5;66;03m# it will also try to release it and we'll have a double-release\u001b[39;00m\n\u001b[0;32m    716\u001b[0m \u001b[38;5;66;03m# mess.\u001b[39;00m\n\u001b[0;32m    717\u001b[0m response_conn \u001b[38;5;241m=\u001b[39m conn \u001b[38;5;28;01mif\u001b[39;00m \u001b[38;5;129;01mnot\u001b[39;00m release_conn \u001b[38;5;28;01melse\u001b[39;00m \u001b[38;5;28;01mNone\u001b[39;00m\n",
      "File \u001b[1;32mD:\\anaconda3\\lib\\site-packages\\urllib3\\connectionpool.py:449\u001b[0m, in \u001b[0;36mHTTPConnectionPool._make_request\u001b[1;34m(self, conn, method, url, timeout, chunked, **httplib_request_kw)\u001b[0m\n\u001b[0;32m    444\u001b[0m             httplib_response \u001b[38;5;241m=\u001b[39m conn\u001b[38;5;241m.\u001b[39mgetresponse()\n\u001b[0;32m    445\u001b[0m         \u001b[38;5;28;01mexcept\u001b[39;00m \u001b[38;5;167;01mBaseException\u001b[39;00m \u001b[38;5;28;01mas\u001b[39;00m e:\n\u001b[0;32m    446\u001b[0m             \u001b[38;5;66;03m# Remove the TypeError from the exception chain in\u001b[39;00m\n\u001b[0;32m    447\u001b[0m             \u001b[38;5;66;03m# Python 3 (including for exceptions like SystemExit).\u001b[39;00m\n\u001b[0;32m    448\u001b[0m             \u001b[38;5;66;03m# Otherwise it looks like a bug in the code.\u001b[39;00m\n\u001b[1;32m--> 449\u001b[0m             \u001b[43msix\u001b[49m\u001b[38;5;241;43m.\u001b[39;49m\u001b[43mraise_from\u001b[49m\u001b[43m(\u001b[49m\u001b[43me\u001b[49m\u001b[43m,\u001b[49m\u001b[43m \u001b[49m\u001b[38;5;28;43;01mNone\u001b[39;49;00m\u001b[43m)\u001b[49m\n\u001b[0;32m    450\u001b[0m \u001b[38;5;28;01mexcept\u001b[39;00m (SocketTimeout, BaseSSLError, SocketError) \u001b[38;5;28;01mas\u001b[39;00m e:\n\u001b[0;32m    451\u001b[0m     \u001b[38;5;28mself\u001b[39m\u001b[38;5;241m.\u001b[39m_raise_timeout(err\u001b[38;5;241m=\u001b[39me, url\u001b[38;5;241m=\u001b[39murl, timeout_value\u001b[38;5;241m=\u001b[39mread_timeout)\n",
      "File \u001b[1;32m<string>:3\u001b[0m, in \u001b[0;36mraise_from\u001b[1;34m(value, from_value)\u001b[0m\n",
      "File \u001b[1;32mD:\\anaconda3\\lib\\site-packages\\urllib3\\connectionpool.py:444\u001b[0m, in \u001b[0;36mHTTPConnectionPool._make_request\u001b[1;34m(self, conn, method, url, timeout, chunked, **httplib_request_kw)\u001b[0m\n\u001b[0;32m    441\u001b[0m \u001b[38;5;28;01mexcept\u001b[39;00m \u001b[38;5;167;01mTypeError\u001b[39;00m:\n\u001b[0;32m    442\u001b[0m     \u001b[38;5;66;03m# Python 3\u001b[39;00m\n\u001b[0;32m    443\u001b[0m     \u001b[38;5;28;01mtry\u001b[39;00m:\n\u001b[1;32m--> 444\u001b[0m         httplib_response \u001b[38;5;241m=\u001b[39m \u001b[43mconn\u001b[49m\u001b[38;5;241;43m.\u001b[39;49m\u001b[43mgetresponse\u001b[49m\u001b[43m(\u001b[49m\u001b[43m)\u001b[49m\n\u001b[0;32m    445\u001b[0m     \u001b[38;5;28;01mexcept\u001b[39;00m \u001b[38;5;167;01mBaseException\u001b[39;00m \u001b[38;5;28;01mas\u001b[39;00m e:\n\u001b[0;32m    446\u001b[0m         \u001b[38;5;66;03m# Remove the TypeError from the exception chain in\u001b[39;00m\n\u001b[0;32m    447\u001b[0m         \u001b[38;5;66;03m# Python 3 (including for exceptions like SystemExit).\u001b[39;00m\n\u001b[0;32m    448\u001b[0m         \u001b[38;5;66;03m# Otherwise it looks like a bug in the code.\u001b[39;00m\n\u001b[0;32m    449\u001b[0m         six\u001b[38;5;241m.\u001b[39mraise_from(e, \u001b[38;5;28;01mNone\u001b[39;00m)\n",
      "File \u001b[1;32mD:\\anaconda3\\lib\\http\\client.py:1377\u001b[0m, in \u001b[0;36mHTTPConnection.getresponse\u001b[1;34m(self)\u001b[0m\n\u001b[0;32m   1375\u001b[0m \u001b[38;5;28;01mtry\u001b[39;00m:\n\u001b[0;32m   1376\u001b[0m     \u001b[38;5;28;01mtry\u001b[39;00m:\n\u001b[1;32m-> 1377\u001b[0m         \u001b[43mresponse\u001b[49m\u001b[38;5;241;43m.\u001b[39;49m\u001b[43mbegin\u001b[49m\u001b[43m(\u001b[49m\u001b[43m)\u001b[49m\n\u001b[0;32m   1378\u001b[0m     \u001b[38;5;28;01mexcept\u001b[39;00m \u001b[38;5;167;01mConnectionError\u001b[39;00m:\n\u001b[0;32m   1379\u001b[0m         \u001b[38;5;28mself\u001b[39m\u001b[38;5;241m.\u001b[39mclose()\n",
      "File \u001b[1;32mD:\\anaconda3\\lib\\http\\client.py:320\u001b[0m, in \u001b[0;36mHTTPResponse.begin\u001b[1;34m(self)\u001b[0m\n\u001b[0;32m    318\u001b[0m \u001b[38;5;66;03m# read until we get a non-100 response\u001b[39;00m\n\u001b[0;32m    319\u001b[0m \u001b[38;5;28;01mwhile\u001b[39;00m \u001b[38;5;28;01mTrue\u001b[39;00m:\n\u001b[1;32m--> 320\u001b[0m     version, status, reason \u001b[38;5;241m=\u001b[39m \u001b[38;5;28;43mself\u001b[39;49m\u001b[38;5;241;43m.\u001b[39;49m\u001b[43m_read_status\u001b[49m\u001b[43m(\u001b[49m\u001b[43m)\u001b[49m\n\u001b[0;32m    321\u001b[0m     \u001b[38;5;28;01mif\u001b[39;00m status \u001b[38;5;241m!=\u001b[39m CONTINUE:\n\u001b[0;32m    322\u001b[0m         \u001b[38;5;28;01mbreak\u001b[39;00m\n",
      "File \u001b[1;32mD:\\anaconda3\\lib\\http\\client.py:281\u001b[0m, in \u001b[0;36mHTTPResponse._read_status\u001b[1;34m(self)\u001b[0m\n\u001b[0;32m    280\u001b[0m \u001b[38;5;28;01mdef\u001b[39;00m \u001b[38;5;21m_read_status\u001b[39m(\u001b[38;5;28mself\u001b[39m):\n\u001b[1;32m--> 281\u001b[0m     line \u001b[38;5;241m=\u001b[39m \u001b[38;5;28mstr\u001b[39m(\u001b[38;5;28;43mself\u001b[39;49m\u001b[38;5;241;43m.\u001b[39;49m\u001b[43mfp\u001b[49m\u001b[38;5;241;43m.\u001b[39;49m\u001b[43mreadline\u001b[49m\u001b[43m(\u001b[49m\u001b[43m_MAXLINE\u001b[49m\u001b[43m \u001b[49m\u001b[38;5;241;43m+\u001b[39;49m\u001b[43m \u001b[49m\u001b[38;5;241;43m1\u001b[39;49m\u001b[43m)\u001b[49m, \u001b[38;5;124m\"\u001b[39m\u001b[38;5;124miso-8859-1\u001b[39m\u001b[38;5;124m\"\u001b[39m)\n\u001b[0;32m    282\u001b[0m     \u001b[38;5;28;01mif\u001b[39;00m \u001b[38;5;28mlen\u001b[39m(line) \u001b[38;5;241m>\u001b[39m _MAXLINE:\n\u001b[0;32m    283\u001b[0m         \u001b[38;5;28;01mraise\u001b[39;00m LineTooLong(\u001b[38;5;124m\"\u001b[39m\u001b[38;5;124mstatus line\u001b[39m\u001b[38;5;124m\"\u001b[39m)\n",
      "File \u001b[1;32mD:\\anaconda3\\lib\\socket.py:704\u001b[0m, in \u001b[0;36mSocketIO.readinto\u001b[1;34m(self, b)\u001b[0m\n\u001b[0;32m    702\u001b[0m \u001b[38;5;28;01mwhile\u001b[39;00m \u001b[38;5;28;01mTrue\u001b[39;00m:\n\u001b[0;32m    703\u001b[0m     \u001b[38;5;28;01mtry\u001b[39;00m:\n\u001b[1;32m--> 704\u001b[0m         \u001b[38;5;28;01mreturn\u001b[39;00m \u001b[38;5;28;43mself\u001b[39;49m\u001b[38;5;241;43m.\u001b[39;49m\u001b[43m_sock\u001b[49m\u001b[38;5;241;43m.\u001b[39;49m\u001b[43mrecv_into\u001b[49m\u001b[43m(\u001b[49m\u001b[43mb\u001b[49m\u001b[43m)\u001b[49m\n\u001b[0;32m    705\u001b[0m     \u001b[38;5;28;01mexcept\u001b[39;00m timeout:\n\u001b[0;32m    706\u001b[0m         \u001b[38;5;28mself\u001b[39m\u001b[38;5;241m.\u001b[39m_timeout_occurred \u001b[38;5;241m=\u001b[39m \u001b[38;5;28;01mTrue\u001b[39;00m\n",
      "File \u001b[1;32mD:\\anaconda3\\lib\\ssl.py:1241\u001b[0m, in \u001b[0;36mSSLSocket.recv_into\u001b[1;34m(self, buffer, nbytes, flags)\u001b[0m\n\u001b[0;32m   1237\u001b[0m     \u001b[38;5;28;01mif\u001b[39;00m flags \u001b[38;5;241m!=\u001b[39m \u001b[38;5;241m0\u001b[39m:\n\u001b[0;32m   1238\u001b[0m         \u001b[38;5;28;01mraise\u001b[39;00m \u001b[38;5;167;01mValueError\u001b[39;00m(\n\u001b[0;32m   1239\u001b[0m           \u001b[38;5;124m\"\u001b[39m\u001b[38;5;124mnon-zero flags not allowed in calls to recv_into() on \u001b[39m\u001b[38;5;132;01m%s\u001b[39;00m\u001b[38;5;124m\"\u001b[39m \u001b[38;5;241m%\u001b[39m\n\u001b[0;32m   1240\u001b[0m           \u001b[38;5;28mself\u001b[39m\u001b[38;5;241m.\u001b[39m\u001b[38;5;18m__class__\u001b[39m)\n\u001b[1;32m-> 1241\u001b[0m     \u001b[38;5;28;01mreturn\u001b[39;00m \u001b[38;5;28;43mself\u001b[39;49m\u001b[38;5;241;43m.\u001b[39;49m\u001b[43mread\u001b[49m\u001b[43m(\u001b[49m\u001b[43mnbytes\u001b[49m\u001b[43m,\u001b[49m\u001b[43m \u001b[49m\u001b[43mbuffer\u001b[49m\u001b[43m)\u001b[49m\n\u001b[0;32m   1242\u001b[0m \u001b[38;5;28;01melse\u001b[39;00m:\n\u001b[0;32m   1243\u001b[0m     \u001b[38;5;28;01mreturn\u001b[39;00m \u001b[38;5;28msuper\u001b[39m()\u001b[38;5;241m.\u001b[39mrecv_into(buffer, nbytes, flags)\n",
      "File \u001b[1;32mD:\\anaconda3\\lib\\ssl.py:1099\u001b[0m, in \u001b[0;36mSSLSocket.read\u001b[1;34m(self, len, buffer)\u001b[0m\n\u001b[0;32m   1097\u001b[0m \u001b[38;5;28;01mtry\u001b[39;00m:\n\u001b[0;32m   1098\u001b[0m     \u001b[38;5;28;01mif\u001b[39;00m buffer \u001b[38;5;129;01mis\u001b[39;00m \u001b[38;5;129;01mnot\u001b[39;00m \u001b[38;5;28;01mNone\u001b[39;00m:\n\u001b[1;32m-> 1099\u001b[0m         \u001b[38;5;28;01mreturn\u001b[39;00m \u001b[38;5;28;43mself\u001b[39;49m\u001b[38;5;241;43m.\u001b[39;49m\u001b[43m_sslobj\u001b[49m\u001b[38;5;241;43m.\u001b[39;49m\u001b[43mread\u001b[49m\u001b[43m(\u001b[49m\u001b[38;5;28;43mlen\u001b[39;49m\u001b[43m,\u001b[49m\u001b[43m \u001b[49m\u001b[43mbuffer\u001b[49m\u001b[43m)\u001b[49m\n\u001b[0;32m   1100\u001b[0m     \u001b[38;5;28;01melse\u001b[39;00m:\n\u001b[0;32m   1101\u001b[0m         \u001b[38;5;28;01mreturn\u001b[39;00m \u001b[38;5;28mself\u001b[39m\u001b[38;5;241m.\u001b[39m_sslobj\u001b[38;5;241m.\u001b[39mread(\u001b[38;5;28mlen\u001b[39m)\n",
      "\u001b[1;31mKeyboardInterrupt\u001b[0m: "
     ]
    }
   ],
   "source": [
    "chengjiao_df=pd.read_feather('lianjia_chengjiao.feather')\n",
    "count=52\n",
    "chengjiao_filename='lianjia_chengjiao.feather'\n",
    "cookies='SECKEY_ABVK=wahsg0xUYIsSseGpV7ntH33DrJswDpw2Plw2QWZFmSYjcFqEJrXNjtLwCRr6wiqdKA7icH8b5SMHyKHlBRZnFQ%3D%3D; BMAP_SECKEY=S7bkVP4xQqoLxUlEaDjBNV2M9N9K3_nF2yKl0MP8NanOzd69AGPlv0yGgq-T-48I-Mv3LZNL6cFVoLlU6G6L_ln7X0vOSscJvrqmDDKmoEcZ1o55YBAYrr1_6RXfNqPfPlSGY6NpPUjl0Y5lhN0V5jrZ1Gq_66N8jLqXY0LagTmJ-UJkvVS2oLBIhYHR7IYsqb3UjRBrf4VDLzdVtUpkaw; lianjia_uuid=a1ecdfff-2722-472b-a0f8-3f0f09222ddb; crosSdkDT2019DeviceId=-5cav4c--pcg1jo-jlq4vkogud4ri8a-ffkgs9pa6; lfrc_=0e586a92-aa57-440f-993a-7db260d72049; _smt_uid=65040e16.5ebe813a; _ga=GA1.2.1912050430.1694764573; _jzqy=1.1695215405.1695215405.1.jzqsr=baidu.-; sensorsdata2015jssdkcross=%7B%22distinct_id%22%3A%2218a97d6fe713b4-0cfec44792da49-26031e51-1382400-18a97d6fe72394%22%2C%22%24device_id%22%3A%2218a97d6fe713b4-0cfec44792da49-26031e51-1382400-18a97d6fe72394%22%2C%22props%22%3A%7B%22%24latest_traffic_source_type%22%3A%22%E7%9B%B4%E6%8E%A5%E6%B5%81%E9%87%8F%22%2C%22%24latest_referrer%22%3A%22%22%2C%22%24latest_referrer_host%22%3A%22%22%2C%22%24latest_search_keyword%22%3A%22%E6%9C%AA%E5%8F%96%E5%88%B0%E5%80%BC_%E7%9B%B4%E6%8E%A5%E6%89%93%E5%BC%80%22%7D%7D; _ga_LRLL77SF11=GS1.2.1695915521.4.1.1695915545.0.0.0; _ga_GVYN2J1PCG=GS1.2.1695915521.4.1.1695915545.0.0.0; _jzqx=1.1694764564.1697625466.16.jzqsr=clogin%2Elianjia%2Ecom|jzqct=/.jzqsr=gz%2Elianjia%2Ecom|jzqct=/chengjiao/; _ga_654P0WDKYN=GS1.2.1697649303.6.0.1697649303.0.0.0; _ga_NKBFZ7NGRV=GS1.2.1697823269.1.0.1697823269.0.0.0; _ga_XLL3Z3LPTW=GS1.2.1697823269.1.0.1697823269.0.0.0; _ga_PV625F3L95=GS1.2.1697823278.1.0.1697823278.0.0.0; _ga_1W6P4PWXJV=GS1.2.1697823287.1.0.1697823287.0.0.0; _ga_W9S66SNGYB=GS1.2.1697823287.1.0.1697823287.0.0.0; _ga_BGW2B8P0NN=GS1.2.1697823295.1.1.1697823320.0.0.0; _ga_WLZSQZX7DE=GS1.2.1697823347.2.0.1697823347.0.0.0; _ga_TJZVFLS7KV=GS1.2.1697823347.2.0.1697823347.0.0.0; _ga_NKCLMZHBXY=GS1.2.1697823372.1.0.1697823372.0.0.0; _ga_WGKDF6B591=GS1.2.1697823394.1.0.1697823394.0.0.0; _ga_E91JCCJY3Z=GS1.2.1697823409.1.0.1697823409.0.0.0; _ga_MFYNHLJT0H=GS1.2.1697823409.1.0.1697823409.0.0.0; _ga_4JBJY7Y7MX=GS1.2.1697823418.1.0.1697823418.0.0.0; _ga_B3G62E46BE=GS1.2.1697823444.1.0.1697823444.0.0.0; _ga_049GGDBYWQ=GS1.2.1697823444.1.0.1697823444.0.0.0; _ga_8EKBN6G64V=GS1.2.1697823464.1.0.1697823464.0.0.0; _ga_EYZV9X59TQ=GS1.2.1697823470.1.0.1697823470.0.0.0; _ga_DX18CJBZRT=GS1.2.1697823470.1.0.1697823470.0.0.0; _ga_C4R21H79WC=GS1.2.1697901392.4.1.1697902049.0.0.0; Hm_lvt_9152f8221cb6243a53c83b956842be8a=1697823773,1697900721,1698075221,1698159102; _ga_KJTRWRHDL1=GS1.2.1698159107.14.1.1698159125.0.0.0; _ga_QJN1VP0CMS=GS1.2.1698159107.14.1.1698159125.0.0.0; select_city=110000; lianjia_ssid=4d8edfd1-7dc8-43ec-9436-41dd6211cecc; _qzjc=1; _jzqa=1.3340631992986723000.1694764564.1698159097.1698250695.41; _jzqc=1; _jzqckmp=1; login_ucid=2000000367596316; lianjia_token=2.00120dc6887e6db87803a0efb99f2cdba7; lianjia_token_secure=2.00120dc6887e6db87803a0efb99f2cdba7; security_ticket=S6g6MIOieGW4MPDX8D2MUf372Qoes4/KOn7tL0sqaYFcjkvtstLUBLKr+IjLVNcGwGrul97S7rOtI/68uYRjMQZ4nUt1yKJtabYA7m3L2s3ndX0covDXhH3r+m8lvgjOtFauNO0ypHI/mdZMZyUnixLP/+LK05Yr472QjA1Ps30=; _qzja=1.471993342.1695141463227.1698159096813.1698250694725.1698250701693.1698250755436.0.0.0.60.16; _qzjb=1.1698250694724.3.0.0.0; _qzjto=3.1.0; _jzqb=1.3.10.1698250695.1; srcid=eyJ0Ijoie1wiZGF0YVwiOlwiYzg0ZTc3OTdiNTI4M2I0ZGQwZmRlNzUzZTE4MWZiYTNhNTdkZjA0ZDI2MDc3MDYxNGFiNjVmNDZjYjBlY2YyYjZlMmY5YTNiNzMwZmQyM2ZjMTI3NTdmNTJjNTNjZWI4NWMxYTg1ZDU1NDMwNGQ1MjU3MWE2ZDcyYTk0ZWI4YWI3MWE0ZDM4ZGRiZGFmNTM1NzdkNzNlMWIyMTc1OTVmOGFmOTg1MWU5YWFkODg5YWU2MTlkYzFjOWJhZmM4YWUxYzdhN2ZjY2JhYWI1NGU3YWI0MTFkY2JiZDQ2OTRjYTY1MDFiNTE2YTUwODY0NjNkZDEwMGM3NDFlZjJlNDhlNlwiLFwia2V5X2lkXCI6XCIxXCIsXCJzaWduXCI6XCIyOGUyY2EyZVwifSIsInIiOiJodHRwczovL2JqLmxpYW5qaWEuY29tL2NoZW5namlhby8iLCJvcyI6IndlYiIsInYiOiIwLjEifQ=='\n",
    "for xiaoqu in new_tier_one_split[51:]:\n",
    "    print(count)\n",
    "    temp=get_xiaoqu_chengjiao(xiaoqu,cookies)\n",
    "    chengjiao_df=pd.concat([chengjiao_df, temp], axis=0)\n",
    "    feather.write_feather(chengjiao_df, chengjiao_filename)\n",
    "    count+=1\n",
    "    "
   ]
  },
  {
   "cell_type": "code",
   "execution_count": 12,
   "id": "ed6889ba",
   "metadata": {
    "scrolled": true
   },
   "outputs": [
    {
     "data": {
      "text/html": [
       "<div>\n",
       "<style scoped>\n",
       "    .dataframe tbody tr th:only-of-type {\n",
       "        vertical-align: middle;\n",
       "    }\n",
       "\n",
       "    .dataframe tbody tr th {\n",
       "        vertical-align: top;\n",
       "    }\n",
       "\n",
       "    .dataframe thead th {\n",
       "        text-align: right;\n",
       "    }\n",
       "</style>\n",
       "<table border=\"1\" class=\"dataframe\">\n",
       "  <thead>\n",
       "    <tr style=\"text-align: right;\">\n",
       "      <th></th>\n",
       "      <th>城市</th>\n",
       "      <th>小区名称</th>\n",
       "      <th>小区id</th>\n",
       "      <th>挂牌价格（万）</th>\n",
       "      <th>成交周期（天）</th>\n",
       "      <th>调价（次）</th>\n",
       "      <th>成交日期</th>\n",
       "      <th>浏览（次）</th>\n",
       "      <th>链家编号</th>\n",
       "      <th>所在区域</th>\n",
       "      <th>...</th>\n",
       "      <th>梯户比例</th>\n",
       "      <th>配备电梯</th>\n",
       "      <th>交易权属</th>\n",
       "      <th>挂牌时间</th>\n",
       "      <th>房屋用途</th>\n",
       "      <th>房屋年限</th>\n",
       "      <th>产权所属</th>\n",
       "      <th>关注次数</th>\n",
       "      <th>看房次数</th>\n",
       "      <th>房屋链接</th>\n",
       "    </tr>\n",
       "  </thead>\n",
       "  <tbody>\n",
       "    <tr>\n",
       "      <th>0</th>\n",
       "      <td>sz</td>\n",
       "      <td>太古城北</td>\n",
       "      <td>2411049531541</td>\n",
       "      <td>2200</td>\n",
       "      <td>67</td>\n",
       "      <td>2</td>\n",
       "      <td>2020.08.15</td>\n",
       "      <td>4744</td>\n",
       "      <td>105104554622</td>\n",
       "      <td>(南山区深圳湾)中心路(深圳湾段)2233号</td>\n",
       "      <td>...</td>\n",
       "      <td>两梯四户</td>\n",
       "      <td>有</td>\n",
       "      <td>商品房</td>\n",
       "      <td>2020-06-09</td>\n",
       "      <td>普通住宅</td>\n",
       "      <td>满五年</td>\n",
       "      <td>非共有</td>\n",
       "      <td>36</td>\n",
       "      <td>NA</td>\n",
       "      <td>https://sz.lianjia.com/chengjiao/105104554622....</td>\n",
       "    </tr>\n",
       "    <tr>\n",
       "      <th>1</th>\n",
       "      <td>sz</td>\n",
       "      <td>太古城北</td>\n",
       "      <td>2411049531541</td>\n",
       "      <td>2150</td>\n",
       "      <td>459</td>\n",
       "      <td>3</td>\n",
       "      <td>2020.07.18</td>\n",
       "      <td>3736</td>\n",
       "      <td>105102259846</td>\n",
       "      <td>(南山区深圳湾)中心路(深圳湾段)2233号</td>\n",
       "      <td>...</td>\n",
       "      <td>两梯四户</td>\n",
       "      <td>有</td>\n",
       "      <td>商品房</td>\n",
       "      <td>2019-04-17</td>\n",
       "      <td>普通住宅</td>\n",
       "      <td>满五年</td>\n",
       "      <td>非共有</td>\n",
       "      <td>80</td>\n",
       "      <td>NA</td>\n",
       "      <td>https://sz.lianjia.com/chengjiao/105102259846....</td>\n",
       "    </tr>\n",
       "    <tr>\n",
       "      <th>2</th>\n",
       "      <td>sz</td>\n",
       "      <td>太古城北</td>\n",
       "      <td>2411049531541</td>\n",
       "      <td>1100</td>\n",
       "      <td>374</td>\n",
       "      <td>1</td>\n",
       "      <td>2019.11.15</td>\n",
       "      <td>438</td>\n",
       "      <td>105101728094</td>\n",
       "      <td>(南山区深圳湾)中心路(深圳湾段)2233号</td>\n",
       "      <td>...</td>\n",
       "      <td>三梯八户</td>\n",
       "      <td>有</td>\n",
       "      <td>商品房</td>\n",
       "      <td>2018-11-07</td>\n",
       "      <td>普通住宅</td>\n",
       "      <td>暂无数据</td>\n",
       "      <td>非共有</td>\n",
       "      <td>6</td>\n",
       "      <td>NA</td>\n",
       "      <td>https://sz.lianjia.com/chengjiao/105101728094....</td>\n",
       "    </tr>\n",
       "    <tr>\n",
       "      <th>3</th>\n",
       "      <td>sz</td>\n",
       "      <td>太古城北</td>\n",
       "      <td>2411049531541</td>\n",
       "      <td>1850</td>\n",
       "      <td>334</td>\n",
       "      <td>3</td>\n",
       "      <td>2019.03.27</td>\n",
       "      <td>427</td>\n",
       "      <td>105101338859</td>\n",
       "      <td>(南山区深圳湾)中心路(深圳湾段)2233号</td>\n",
       "      <td>...</td>\n",
       "      <td>两梯四户</td>\n",
       "      <td>有</td>\n",
       "      <td>商品房</td>\n",
       "      <td>2018-04-27</td>\n",
       "      <td>普通住宅</td>\n",
       "      <td>暂无数据</td>\n",
       "      <td>共有</td>\n",
       "      <td>68</td>\n",
       "      <td>NA</td>\n",
       "      <td>https://sz.lianjia.com/chengjiao/105101338859....</td>\n",
       "    </tr>\n",
       "    <tr>\n",
       "      <th>4</th>\n",
       "      <td>sz</td>\n",
       "      <td>太古城北</td>\n",
       "      <td>2411049531541</td>\n",
       "      <td>900</td>\n",
       "      <td>17</td>\n",
       "      <td>1</td>\n",
       "      <td>2019.03.27</td>\n",
       "      <td>209</td>\n",
       "      <td>105101081455</td>\n",
       "      <td>(南山区深圳湾)中心路(深圳湾段)2233号</td>\n",
       "      <td>...</td>\n",
       "      <td>三梯八户</td>\n",
       "      <td>有</td>\n",
       "      <td>商品房</td>\n",
       "      <td>2017-11-03</td>\n",
       "      <td>普通住宅</td>\n",
       "      <td>暂无数据</td>\n",
       "      <td>非共有</td>\n",
       "      <td>0</td>\n",
       "      <td>NA</td>\n",
       "      <td>https://sz.lianjia.com/chengjiao/105101081455....</td>\n",
       "    </tr>\n",
       "    <tr>\n",
       "      <th>...</th>\n",
       "      <td>...</td>\n",
       "      <td>...</td>\n",
       "      <td>...</td>\n",
       "      <td>...</td>\n",
       "      <td>...</td>\n",
       "      <td>...</td>\n",
       "      <td>...</td>\n",
       "      <td>...</td>\n",
       "      <td>...</td>\n",
       "      <td>...</td>\n",
       "      <td>...</td>\n",
       "      <td>...</td>\n",
       "      <td>...</td>\n",
       "      <td>...</td>\n",
       "      <td>...</td>\n",
       "      <td>...</td>\n",
       "      <td>...</td>\n",
       "      <td>...</td>\n",
       "      <td>...</td>\n",
       "      <td>...</td>\n",
       "      <td>...</td>\n",
       "    </tr>\n",
       "    <tr>\n",
       "      <th>24</th>\n",
       "      <td>cd</td>\n",
       "      <td>博雅新城E区</td>\n",
       "      <td>3011056749384</td>\n",
       "      <td>95</td>\n",
       "      <td>128</td>\n",
       "      <td>0</td>\n",
       "      <td>2017.09.23</td>\n",
       "      <td>218</td>\n",
       "      <td>106100164361</td>\n",
       "      <td>(新都大丰)晓初滨河路一巷222号</td>\n",
       "      <td>...</td>\n",
       "      <td>两梯四户</td>\n",
       "      <td>有</td>\n",
       "      <td>商品房</td>\n",
       "      <td>2017-03-03</td>\n",
       "      <td>普通住宅</td>\n",
       "      <td>暂无数据</td>\n",
       "      <td>共有</td>\n",
       "      <td>121</td>\n",
       "      <td>NA</td>\n",
       "      <td>https://cd.lianjia.com/chengjiao/106100164361....</td>\n",
       "    </tr>\n",
       "    <tr>\n",
       "      <th>25</th>\n",
       "      <td>cd</td>\n",
       "      <td>博雅新城E区</td>\n",
       "      <td>3011056749384</td>\n",
       "      <td>60</td>\n",
       "      <td>81</td>\n",
       "      <td>0</td>\n",
       "      <td>2017.07.08</td>\n",
       "      <td>220</td>\n",
       "      <td>106100233421</td>\n",
       "      <td>(新都大丰)晓初滨河路一巷222号</td>\n",
       "      <td>...</td>\n",
       "      <td>两梯三户</td>\n",
       "      <td>有</td>\n",
       "      <td>商品房</td>\n",
       "      <td>2017-03-30</td>\n",
       "      <td>普通住宅</td>\n",
       "      <td>暂无数据</td>\n",
       "      <td>非共有</td>\n",
       "      <td>41</td>\n",
       "      <td>NA</td>\n",
       "      <td>https://cd.lianjia.com/chengjiao/106100233421....</td>\n",
       "    </tr>\n",
       "    <tr>\n",
       "      <th>26</th>\n",
       "      <td>cd</td>\n",
       "      <td>博雅新城E区</td>\n",
       "      <td>3011056749384</td>\n",
       "      <td>78</td>\n",
       "      <td>14</td>\n",
       "      <td>0</td>\n",
       "      <td>2017.06.18</td>\n",
       "      <td>212</td>\n",
       "      <td>106100389030</td>\n",
       "      <td>(新都大丰)晓初滨河路一巷222号</td>\n",
       "      <td>...</td>\n",
       "      <td>两梯三户</td>\n",
       "      <td>有</td>\n",
       "      <td>商品房</td>\n",
       "      <td>2017-06-03</td>\n",
       "      <td>普通住宅</td>\n",
       "      <td>暂无数据</td>\n",
       "      <td>非共有</td>\n",
       "      <td>2</td>\n",
       "      <td>NA</td>\n",
       "      <td>https://cd.lianjia.com/chengjiao/106100389030....</td>\n",
       "    </tr>\n",
       "    <tr>\n",
       "      <th>27</th>\n",
       "      <td>cd</td>\n",
       "      <td>博雅新城E区</td>\n",
       "      <td>3011056749384</td>\n",
       "      <td>62</td>\n",
       "      <td>7</td>\n",
       "      <td>0</td>\n",
       "      <td>2017.06.17</td>\n",
       "      <td>211</td>\n",
       "      <td>106100355833</td>\n",
       "      <td>(新都大丰)晓初滨河路一巷222号</td>\n",
       "      <td>...</td>\n",
       "      <td>两梯三户</td>\n",
       "      <td>有</td>\n",
       "      <td>商品房</td>\n",
       "      <td>2017-05-20</td>\n",
       "      <td>普通住宅</td>\n",
       "      <td>暂无数据</td>\n",
       "      <td>共有</td>\n",
       "      <td>2</td>\n",
       "      <td>NA</td>\n",
       "      <td>https://cd.lianjia.com/chengjiao/106100355833....</td>\n",
       "    </tr>\n",
       "    <tr>\n",
       "      <th>28</th>\n",
       "      <td>cd</td>\n",
       "      <td>博雅新城E区</td>\n",
       "      <td>3011056749384</td>\n",
       "      <td>95</td>\n",
       "      <td>13</td>\n",
       "      <td>0</td>\n",
       "      <td>2017.05.27</td>\n",
       "      <td>215</td>\n",
       "      <td>106100330512</td>\n",
       "      <td>(新都大丰)晓初滨河路一巷222号</td>\n",
       "      <td>...</td>\n",
       "      <td>两梯四户</td>\n",
       "      <td>有</td>\n",
       "      <td>商品房</td>\n",
       "      <td>2017-05-10</td>\n",
       "      <td>普通住宅</td>\n",
       "      <td>暂无数据</td>\n",
       "      <td>共有</td>\n",
       "      <td>3</td>\n",
       "      <td>NA</td>\n",
       "      <td>https://cd.lianjia.com/chengjiao/106100330512....</td>\n",
       "    </tr>\n",
       "  </tbody>\n",
       "</table>\n",
       "<p>505376 rows × 29 columns</p>\n",
       "</div>"
      ],
      "text/plain": [
       "    城市    小区名称           小区id 挂牌价格（万） 成交周期（天） 调价（次）        成交日期 浏览（次）  \\\n",
       "0   sz    太古城北  2411049531541    2200      67     2  2020.08.15  4744   \n",
       "1   sz    太古城北  2411049531541    2150     459     3  2020.07.18  3736   \n",
       "2   sz    太古城北  2411049531541    1100     374     1  2019.11.15   438   \n",
       "3   sz    太古城北  2411049531541    1850     334     3  2019.03.27   427   \n",
       "4   sz    太古城北  2411049531541     900      17     1  2019.03.27   209   \n",
       "..  ..     ...            ...     ...     ...   ...         ...   ...   \n",
       "24  cd  博雅新城E区  3011056749384      95     128     0  2017.09.23   218   \n",
       "25  cd  博雅新城E区  3011056749384      60      81     0  2017.07.08   220   \n",
       "26  cd  博雅新城E区  3011056749384      78      14     0  2017.06.18   212   \n",
       "27  cd  博雅新城E区  3011056749384      62       7     0  2017.06.17   211   \n",
       "28  cd  博雅新城E区  3011056749384      95      13     0  2017.05.27   215   \n",
       "\n",
       "            链家编号                    所在区域  ...  梯户比例 配备电梯 交易权属        挂牌时间  \\\n",
       "0   105104554622  (南山区深圳湾)中心路(深圳湾段)2233号  ...  两梯四户    有  商品房  2020-06-09   \n",
       "1   105102259846  (南山区深圳湾)中心路(深圳湾段)2233号  ...  两梯四户    有  商品房  2019-04-17   \n",
       "2   105101728094  (南山区深圳湾)中心路(深圳湾段)2233号  ...  三梯八户    有  商品房  2018-11-07   \n",
       "3   105101338859  (南山区深圳湾)中心路(深圳湾段)2233号  ...  两梯四户    有  商品房  2018-04-27   \n",
       "4   105101081455  (南山区深圳湾)中心路(深圳湾段)2233号  ...  三梯八户    有  商品房  2017-11-03   \n",
       "..           ...                     ...  ...   ...  ...  ...         ...   \n",
       "24  106100164361       (新都大丰)晓初滨河路一巷222号  ...  两梯四户    有  商品房  2017-03-03   \n",
       "25  106100233421       (新都大丰)晓初滨河路一巷222号  ...  两梯三户    有  商品房  2017-03-30   \n",
       "26  106100389030       (新都大丰)晓初滨河路一巷222号  ...  两梯三户    有  商品房  2017-06-03   \n",
       "27  106100355833       (新都大丰)晓初滨河路一巷222号  ...  两梯三户    有  商品房  2017-05-20   \n",
       "28  106100330512       (新都大丰)晓初滨河路一巷222号  ...  两梯四户    有  商品房  2017-05-10   \n",
       "\n",
       "    房屋用途  房屋年限 产权所属 关注次数 看房次数  \\\n",
       "0   普通住宅   满五年  非共有   36   NA   \n",
       "1   普通住宅   满五年  非共有   80   NA   \n",
       "2   普通住宅  暂无数据  非共有    6   NA   \n",
       "3   普通住宅  暂无数据   共有   68   NA   \n",
       "4   普通住宅  暂无数据  非共有    0   NA   \n",
       "..   ...   ...  ...  ...  ...   \n",
       "24  普通住宅  暂无数据   共有  121   NA   \n",
       "25  普通住宅  暂无数据  非共有   41   NA   \n",
       "26  普通住宅  暂无数据  非共有    2   NA   \n",
       "27  普通住宅  暂无数据   共有    2   NA   \n",
       "28  普通住宅  暂无数据   共有    3   NA   \n",
       "\n",
       "                                                 房屋链接  \n",
       "0   https://sz.lianjia.com/chengjiao/105104554622....  \n",
       "1   https://sz.lianjia.com/chengjiao/105102259846....  \n",
       "2   https://sz.lianjia.com/chengjiao/105101728094....  \n",
       "3   https://sz.lianjia.com/chengjiao/105101338859....  \n",
       "4   https://sz.lianjia.com/chengjiao/105101081455....  \n",
       "..                                                ...  \n",
       "24  https://cd.lianjia.com/chengjiao/106100164361....  \n",
       "25  https://cd.lianjia.com/chengjiao/106100233421....  \n",
       "26  https://cd.lianjia.com/chengjiao/106100389030....  \n",
       "27  https://cd.lianjia.com/chengjiao/106100355833....  \n",
       "28  https://cd.lianjia.com/chengjiao/106100330512....  \n",
       "\n",
       "[505376 rows x 29 columns]"
      ]
     },
     "execution_count": 12,
     "metadata": {},
     "output_type": "execute_result"
    }
   ],
   "source": [
    "pd.read_feather('lianjia_chengjiao.feather')"
   ]
  },
  {
   "cell_type": "code",
   "execution_count": 12,
   "id": "b9bd090a",
   "metadata": {},
   "outputs": [
    {
     "data": {
      "text/plain": [
       "'https://sh.lianjia.com/xiaoqu/5011000012822/'"
      ]
     },
     "execution_count": 12,
     "metadata": {},
     "output_type": "execute_result"
    }
   ],
   "source": [
    "a=shanghai_new_split[17]\n",
    "a[292]"
   ]
  },
  {
   "cell_type": "code",
   "execution_count": 15,
   "id": "f9e04bc8",
   "metadata": {},
   "outputs": [
    {
     "data": {
      "text/plain": [
       "'https://sh.lianjia.com/xiaoqu/5011000006079/'"
      ]
     },
     "execution_count": 15,
     "metadata": {},
     "output_type": "execute_result"
    }
   ],
   "source": [
    "a[293]"
   ]
  },
  {
   "cell_type": "code",
   "execution_count": null,
   "id": "4790e8ed",
   "metadata": {},
   "outputs": [],
   "source": []
  }
 ],
 "metadata": {
  "kernelspec": {
   "display_name": "Python 3 (ipykernel)",
   "language": "python",
   "name": "python3"
  },
  "language_info": {
   "codemirror_mode": {
    "name": "ipython",
    "version": 3
   },
   "file_extension": ".py",
   "mimetype": "text/x-python",
   "name": "python",
   "nbconvert_exporter": "python",
   "pygments_lexer": "ipython3",
   "version": "3.9.12"
  }
 },
 "nbformat": 4,
 "nbformat_minor": 5
}
